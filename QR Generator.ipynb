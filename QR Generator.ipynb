{
 "cells": [
  {
   "cell_type": "code",
   "execution_count": 1,
   "id": "ef20efaf",
   "metadata": {},
   "outputs": [],
   "source": [
    "#Importing the Library\n",
    "import qrcode"
   ]
  },
  {
   "cell_type": "code",
   "execution_count": 2,
   "id": "274be77f",
   "metadata": {},
   "outputs": [],
   "source": [
    "#Creating a QR Object\n",
    "code = qrcode.QRCode(version=1, box_size=10, border=5)"
   ]
  },
  {
   "cell_type": "code",
   "execution_count": 3,
   "id": "383c9d29",
   "metadata": {},
   "outputs": [
    {
     "name": "stdout",
     "output_type": "stream",
     "text": [
      "Enter the information you want as a QR code: https://github.com/sauravk-connect\n"
     ]
    }
   ],
   "source": [
    "#adding the Information\n",
    "link = input('Enter the information you want as a QR code: ')\n",
    "code.add_data(link)"
   ]
  },
  {
   "cell_type": "code",
   "execution_count": 4,
   "id": "0fc6f1ee",
   "metadata": {},
   "outputs": [],
   "source": [
    "#generating the Code\n",
    "code.make(fit=True)\n",
    "QR = code.make_image(fill_color = 'black', back_color = 'white')"
   ]
  },
  {
   "cell_type": "code",
   "execution_count": 5,
   "id": "f2e3f1a1",
   "metadata": {},
   "outputs": [],
   "source": [
    "#Saving the Image\n",
    "QR.save('My_GH_Profile.png')"
   ]
  }
 ],
 "metadata": {
  "kernelspec": {
   "display_name": "Python 3 (ipykernel)",
   "language": "python",
   "name": "python3"
  },
  "language_info": {
   "codemirror_mode": {
    "name": "ipython",
    "version": 3
   },
   "file_extension": ".py",
   "mimetype": "text/x-python",
   "name": "python",
   "nbconvert_exporter": "python",
   "pygments_lexer": "ipython3",
   "version": "3.10.11"
  }
 },
 "nbformat": 4,
 "nbformat_minor": 5
}
